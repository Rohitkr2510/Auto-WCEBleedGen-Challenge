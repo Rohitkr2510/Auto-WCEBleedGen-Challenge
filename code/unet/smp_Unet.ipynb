{
  "cells": [
    {
      "cell_type": "code",
      "execution_count": 1,
      "metadata": {
        "colab": {
          "base_uri": "https://localhost:8080/"
        },
        "id": "fuABEQGqEtYo",
        "outputId": "914bb222-e8bc-4805-dc7b-4c0b144c7373"
      },
      "outputs": [
        {
          "output_type": "stream",
          "name": "stdout",
          "text": [
            "Mounted at /content/gdrive\n"
          ]
        }
      ],
      "source": [
        "from google.colab import drive\n",
        "\n",
        "drive.mount('/content/gdrive')"
      ]
    },
    {
      "cell_type": "code",
      "execution_count": 2,
      "metadata": {
        "id": "sB0xe8SDipLC",
        "colab": {
          "base_uri": "https://localhost:8080/"
        },
        "outputId": "363a0aff-7f97-4af6-ff6a-e0ac01b1abfa"
      },
      "outputs": [
        {
          "output_type": "stream",
          "name": "stdout",
          "text": [
            "\u001b[?25l     \u001b[90m━━━━━━━━━━━━━━━━━━━━━━━━━━━━━━━━━━━━━━━━\u001b[0m \u001b[32m0.0/106.7 kB\u001b[0m \u001b[31m?\u001b[0m eta \u001b[36m-:--:--\u001b[0m\r\u001b[2K     \u001b[90m━━━━━━━━━━━━━━━━━━━━━━━━━━━━━━━━━━━━━━━\u001b[0m \u001b[32m106.7/106.7 kB\u001b[0m \u001b[31m2.9 MB/s\u001b[0m eta \u001b[36m0:00:00\u001b[0m\n",
            "\u001b[?25h\u001b[?25l     \u001b[90m━━━━━━━━━━━━━━━━━━━━━━━━━━━━━━━━━━━━━━━━\u001b[0m \u001b[32m0.0/58.8 kB\u001b[0m \u001b[31m?\u001b[0m eta \u001b[36m-:--:--\u001b[0m\r\u001b[2K     \u001b[90m━━━━━━━━━━━━━━━━━━━━━━━━━━━━━━━━━━━━━━━━\u001b[0m \u001b[32m58.8/58.8 kB\u001b[0m \u001b[31m7.0 MB/s\u001b[0m eta \u001b[36m0:00:00\u001b[0m\n",
            "\u001b[?25h  Preparing metadata (setup.py) ... \u001b[?25l\u001b[?25hdone\n",
            "  Preparing metadata (setup.py) ... \u001b[?25l\u001b[?25hdone\n",
            "\u001b[2K     \u001b[90m━━━━━━━━━━━━━━━━━━━━━━━━━━━━━━━━━━━━━━━━\u001b[0m \u001b[32m2.2/2.2 MB\u001b[0m \u001b[31m41.1 MB/s\u001b[0m eta \u001b[36m0:00:00\u001b[0m\n",
            "\u001b[2K     \u001b[90m━━━━━━━━━━━━━━━━━━━━━━━━━━━━━━━━━━━━━━\u001b[0m \u001b[32m295.0/295.0 kB\u001b[0m \u001b[31m27.5 MB/s\u001b[0m eta \u001b[36m0:00:00\u001b[0m\n",
            "\u001b[2K     \u001b[90m━━━━━━━━━━━━━━━━━━━━━━━━━━━━━━━━━━━━━━━━\u001b[0m \u001b[32m1.3/1.3 MB\u001b[0m \u001b[31m76.3 MB/s\u001b[0m eta \u001b[36m0:00:00\u001b[0m\n",
            "\u001b[?25h  Building wheel for efficientnet-pytorch (setup.py) ... \u001b[?25l\u001b[?25hdone\n",
            "  Building wheel for pretrainedmodels (setup.py) ... \u001b[?25l\u001b[?25hdone\n"
          ]
        }
      ],
      "source": [
        "!pip install segmentation-models-pytorch --quiet"
      ]
    },
    {
      "cell_type": "code",
      "execution_count": 3,
      "metadata": {
        "id": "9zTG2RkTE3Eq"
      },
      "outputs": [],
      "source": [
        "import segmentation_models_pytorch as smp"
      ]
    },
    {
      "cell_type": "code",
      "execution_count": 4,
      "metadata": {
        "id": "8I_WZOdPE5Xw"
      },
      "outputs": [],
      "source": [
        "import cv2\n",
        "from matplotlib import pyplot as plt\n",
        "# data storing library\n",
        "import numpy as np\n",
        "import pandas as pd\n",
        "# torch libraries\n",
        "from torch.optim.lr_scheduler import ReduceLROnPlateau\n",
        "import torch\n",
        "import torch.nn as nn\n",
        "from torch.nn import functional as F\n",
        "import torch.optim as optim\n",
        "import torch.backends.cudnn as cudnn\n",
        "from torch.utils.data import DataLoader, Dataset, sampler\n",
        "import torchvision.transforms as transforms\n",
        "# others\n",
        "import os\n",
        "import pdb\n",
        "import time\n",
        "import warnings\n",
        "import random\n",
        "from tqdm import tqdm_notebook as tqdm\n",
        "import concurrent.futures\n",
        "from PIL import Image\n",
        "\n",
        "seed = 42\n",
        "random.seed(seed)\n",
        "os.environ[\"PYTHONHASHSEED\"] = str(seed)\n",
        "np.random.seed(seed)\n",
        "torch.cuda.manual_seed(seed)\n",
        "torch.manual_seed(seed)\n",
        "torch.backends.cudnn.deterministic = True"
      ]
    },
    {
      "cell_type": "code",
      "execution_count": 5,
      "metadata": {
        "id": "N1JyIFhBE80I"
      },
      "outputs": [],
      "source": [
        "from PIL import Image"
      ]
    },
    {
      "cell_type": "code",
      "execution_count": 6,
      "metadata": {
        "id": "NpvcEBYPE_jf"
      },
      "outputs": [],
      "source": [
        "class customDataset(Dataset):\n",
        "\n",
        "  def __init__(self,imagePaths,maskPaths,transform,preprocessing=None):\n",
        "    #store the image and mask filepaths, and augmentation\n",
        "    #transform\n",
        "    self.imagePaths = imagePaths\n",
        "    self.maskPaths = maskPaths\n",
        "    self.transforms = transform\n",
        "    self.preprocessing = preprocessing\n",
        "\n",
        "  def __len__(self):\n",
        "    return 1286\n",
        "    # return 48\n",
        "\n",
        "\n",
        "  def __getitem__(self, idx):\n",
        "    # grab the image path from the current index\n",
        "    idx += 1\n",
        "    imagePath = os.path.join(self.imagePaths,f\"{idx}.png\")\n",
        "    maskPath = os.path.join(self.maskPaths,f\"{idx}.png\")\n",
        "\n",
        "    # load the image from disk, swap its channels from BGR to RGB,\n",
        "    # and read the associated mask from disk in grayscale mode\n",
        "\n",
        "    # image = cv2.imread(imagePath)\n",
        "    # image = cv2.cvtColor(image, cv2.COLOR_BGR2RGB)\n",
        "    # print(image.shape)\n",
        "    # mask = cv2.imread(maskPath, 0)\n",
        "\n",
        "    image = Image.open(imagePath)\n",
        "    mask = Image.open(maskPath).convert(\"L\").convert(\"1\")\n",
        "\n",
        "\n",
        "    # check to see if we are applying any transformations\n",
        "    if self.transforms is not None:\n",
        "      # apply the transformations to both image and its mask\n",
        "      image = self.transforms(image)\n",
        "      mask = self.transforms(mask)\n",
        "\n",
        "    if self.preprocessing:\n",
        "      sample = self.preprocessing(image=image, mask=mask)\n",
        "      image, mask = sample['image'], sample['mask']\n",
        "\n",
        "\n",
        "\n",
        "    # return a tuple of the image and its mask\n",
        "    return (image, mask)\n",
        "\n"
      ]
    },
    {
      "cell_type": "code",
      "execution_count": 7,
      "metadata": {
        "id": "GK8Ipg7cFB7s"
      },
      "outputs": [],
      "source": [
        "transform = transforms.Compose([\n",
        "    transforms.ToTensor(),\n",
        "    # transforms.Normalize(mean=[0.485, 0.456, 0.406], std=[0.229, 0.224, 0.225]),\n",
        "])"
      ]
    },
    {
      "cell_type": "code",
      "execution_count": 8,
      "metadata": {
        "id": "6yuvBouQFHPS"
      },
      "outputs": [],
      "source": [
        "path = '/content/gdrive/MyDrive/sem_project/WCEBleedGen'\n",
        "imagePath = os.path.join(path,'bleed/img')\n",
        "maskPath = os.path.join(path,'bleed/mask')"
      ]
    },
    {
      "cell_type": "code",
      "execution_count": 9,
      "metadata": {
        "id": "S_Sg-hLGFJzP"
      },
      "outputs": [],
      "source": [
        "dataset = customDataset(imagePath,maskPath,transform)"
      ]
    },
    {
      "cell_type": "code",
      "execution_count": 10,
      "metadata": {
        "id": "IaxTGyCcFKT-",
        "colab": {
          "base_uri": "https://localhost:8080/",
          "height": 486
        },
        "outputId": "d0d9f6df-7dab-4849-80b8-b379d89c8280"
      },
      "outputs": [
        {
          "output_type": "stream",
          "name": "stdout",
          "text": [
            "torch.Size([3, 224, 224])\n",
            "torch.Size([1, 224, 224])\n",
            "1286\n"
          ]
        },
        {
          "output_type": "display_data",
          "data": {
            "text/plain": [
              "<Figure size 640x480 with 1 Axes>"
            ],
            "image/png": "[encoded data removed]"
          },
          "metadata": {}
        }
      ],
      "source": [
        "image,mask = dataset[11]\n",
        "plt.imshow(image.permute(1,2,0))\n",
        "# plt.imshow(mask.permute(1,2,0))\n",
        "# transforms.functional.to_pil_image(image).show()\n",
        "print(image.shape)\n",
        "print(mask.shape)\n",
        "print(len(dataset))"
      ]
    },
    {
      "cell_type": "code",
      "execution_count": 11,
      "metadata": {
        "id": "LPVjfUzqFMip"
      },
      "outputs": [],
      "source": [
        "batch_size = 8\n",
        "train_len = int(0.8 * len(dataset))\n",
        "val_len = len(dataset) - (train_len)\n"
      ]
    },
    {
      "cell_type": "code",
      "execution_count": 12,
      "metadata": {
        "id": "4CwW0Z-AFOs4"
      },
      "outputs": [],
      "source": [
        "train_ds, val_ds = torch.utils.data.random_split(dataset, [train_len, val_len])"
      ]
    },
    {
      "cell_type": "code",
      "execution_count": 13,
      "metadata": {
        "id": "UTDbFfSNFR2U"
      },
      "outputs": [],
      "source": [
        "train_dl = DataLoader(train_ds, batch_size = batch_size, shuffle=True)\n",
        "valid_dl = DataLoader(val_ds, batch_size = batch_size)"
      ]
    },
    {
      "cell_type": "code",
      "execution_count": 14,
      "metadata": {
        "colab": {
          "base_uri": "https://localhost:8080/"
        },
        "id": "YxMt9zhpZ93T",
        "outputId": "27fc50e3-a97c-4b43-8e50-aabc073bd183"
      },
      "outputs": [
        {
          "output_type": "stream",
          "name": "stdout",
          "text": [
            "torch.Size([3, 224, 224])\n",
            "(224, 224)\n"
          ]
        }
      ],
      "source": [
        "for i,mask in val_ds:\n",
        "  print(i.shape)\n",
        "  ima=transforms.functional.to_pil_image(mask)\n",
        "  print(ima.size)\n",
        "  ima.save(\"/content/gdrive/MyDrive/valid/v1.png\")\n",
        "  break\n",
        "  # ima.save(\"/content/gdrive/MyDrive/valid\")\n",
        "\n"
      ]
    },
    {
      "cell_type": "code",
      "execution_count": 15,
      "metadata": {
        "colab": {
          "base_uri": "https://localhost:8080/"
        },
        "id": "pqJPDYs9FU7A",
        "outputId": "7353d444-080f-4a62-e28b-0e90040123ff"
      },
      "outputs": [
        {
          "output_type": "stream",
          "name": "stdout",
          "text": [
            "torch.Size([8, 3, 224, 224]) torch.Size([8, 1, 224, 224])\n"
          ]
        }
      ],
      "source": [
        "for inputs, masks in train_dl:\n",
        "  print(inputs.shape,masks.shape)\n",
        "  break"
      ]
    },
    {
      "cell_type": "code",
      "execution_count": 16,
      "metadata": {
        "colab": {
          "base_uri": "https://localhost:8080/"
        },
        "id": "oVBat-1JFXR8",
        "outputId": "4052d785-6d83-4d71-fa90-6db907cb9250"
      },
      "outputs": [
        {
          "output_type": "stream",
          "name": "stdout",
          "text": [
            "cuda\n"
          ]
        }
      ],
      "source": [
        "if not torch.cuda.is_available():\n",
        "  device = 'cpu'\n",
        "else:\n",
        "  device = 'cuda'\n",
        "print(device)"
      ]
    },
    {
      "cell_type": "code",
      "execution_count": 17,
      "metadata": {
        "id": "kpp87XUaFcoZ"
      },
      "outputs": [],
      "source": [
        "from segmentation_models_pytorch import utils"
      ]
    },
    {
      "cell_type": "code",
      "execution_count": 18,
      "metadata": {
        "id": "hEl4MtKRFe2d"
      },
      "outputs": [],
      "source": [
        "Encoder = \"resnet18\"\n",
        "Encoder_weights = \"imagenet\"\n",
        "Activation = 'sigmoid'\n",
        "# model = smp.MAnet(encoder_name=Encoder,encoder_weights=Encoder_weights,in_channels=3,classes=1,activation=Activation)"
      ]
    },
    {
      "cell_type": "code",
      "source": [
        "model = smp.Unet(encoder_name=Encoder,encoder_weights=Encoder_weights,in_channels=3,classes=1,activation=Activation)\n",
        "model.to(device)\n",
        "\n",
        "loss = utils.losses.DiceLoss()\n",
        "\n",
        "metrics = [\n",
        "    utils.metrics.Accuracy(),\n",
        "    utils.metrics.Precision(),\n",
        "    utils.metrics.Recall(),\n",
        "    utils.metrics.IoU(threshold=0.5),\n",
        "]\n",
        "\n",
        "optimizer = torch.optim.Adam([\n",
        "    dict(params=model.parameters(), lr=0.0001),\n",
        "])"
      ],
      "metadata": {
        "id": "8qVuLSeNjltS",
        "colab": {
          "base_uri": "https://localhost:8080/"
        },
        "outputId": "a6a5c174-fd92-4a0d-845b-0266f01e428f"
      },
      "execution_count": 19,
      "outputs": [
        {
          "output_type": "stream",
          "name": "stderr",
          "text": [
            "Downloading: \"https://download.pytorch.org/models/resnet18-5c106cde.pth\" to /root/.cache/torch/hub/checkpoints/resnet18-5c106cde.pth\n",
            "100%|██████████| 44.7M/44.7M [00:00<00:00, 95.8MB/s]\n"
          ]
        }
      ]
    },
    {
      "cell_type": "code",
      "execution_count": 20,
      "metadata": {
        "id": "oCUzSkc3FhSe"
      },
      "outputs": [],
      "source": [
        "train_epoch = utils.train.TrainEpoch(\n",
        "    model,\n",
        "    loss=loss,\n",
        "    metrics=metrics,\n",
        "    optimizer=optimizer,\n",
        "    device=device,\n",
        "    verbose=True,\n",
        ")\n",
        "\n",
        "valid_epoch = utils.train.ValidEpoch(\n",
        "    model,\n",
        "    loss=loss,\n",
        "    metrics=metrics,\n",
        "    device=device,\n",
        "    verbose=True,\n",
        ")"
      ]
    },
    {
      "cell_type": "code",
      "execution_count": null,
      "metadata": {
        "id": "QWnrc_24Fk4i"
      },
      "outputs": [],
      "source": [
        "max_iou_score = 0\n",
        "max_accuracy_score = 0\n",
        "max_precision_score = 0\n",
        "max_recall_score = 0\n",
        "l = []\n",
        "for i in range(0, 50):\n",
        "\n",
        "    print('\\nEpoch: {}'.format(i))\n",
        "    train_logs = train_epoch.run(train_dl)\n",
        "    valid_logs = valid_epoch.run(valid_dl)\n",
        "    l.append(valid_logs['iou_score'])\n",
        "\n",
        "    # do something (save model, change lr, etc.)\n",
        "    if max_iou_score < valid_logs['iou_score']:\n",
        "      max_iou_score = valid_logs['iou_score']\n",
        "        # torch.save(model, './best_model.pth')\n",
        "        # print('Model saved!')\n",
        "    if max_accuracy_score < valid_logs['accuracy']:\n",
        "      max_accuracy_score = valid_logs['accuracy']\n",
        "    if max_precision_score < valid_logs['precision']:\n",
        "      max_precision_score = valid_logs['precision']\n",
        "\n",
        "    if max_recall_score < valid_logs['recall']:\n",
        "      max_recall_score = valid_logs['recall']\n",
        "\n",
        "\n",
        "\n",
        "    if i == 15:\n",
        "        optimizer.param_groups[0]['lr'] = 5e-5\n",
        "        print('Decrease decoder learning rate to 5e-5!')\n",
        "    elif i == 30:\n",
        "      optimizer.param_groups[0]['lr'] = 7e-6\n",
        "      print('Decrease decoder learning rate to 5e-5!')\n",
        "    elif i == 40:\n",
        "      optimizer.param_groups[0]['lr'] = 5e-7\n",
        "      print('Decrease decoder learning rate to 5e-5!')\n",
        "\n",
        "\n",
        "    print(f\"[-] metrics for epoch {i} on val: max_iou {max_iou_score} max_accuracy: {max_accuracy_score} max_precision: {max_precision_score} max_recall: {max_recall_score}\")\n",
        "\n",
        "\n"
      ]
    },
    {
      "cell_type": "code",
      "execution_count": 22,
      "metadata": {
        "colab": {
          "base_uri": "https://localhost:8080/"
        },
        "id": "8asv68N5gn47",
        "outputId": "e58e4265-18d3-4f3e-9c39-dc2708bf50ca"
      },
      "outputs": [
        {
          "output_type": "stream",
          "name": "stdout",
          "text": [
            "Model saved!\n"
          ]
        }
      ],
      "source": [
        "torch.save(model, f'/content/gdrive/MyDrive/best_model_{Encoder}1.pth')\n",
        "print('Model saved!')"
      ]
    },
    {
      "cell_type": "code",
      "execution_count": 21,
      "metadata": {
        "id": "oi3KR0mHVlJO"
      },
      "outputs": [],
      "source": [
        "best_model = torch.load(f'/content/gdrive/MyDrive/best_model_{Encoder}.pth')"
      ]
    },
    {
      "cell_type": "code",
      "source": [
        "pip install xlwt --quiet"
      ],
      "metadata": {
        "colab": {
          "base_uri": "https://localhost:8080/"
        },
        "id": "yuUVLx-NG14r",
        "outputId": "795f154f-80f9-489a-d89e-456c3ceff87a"
      },
      "execution_count": 23,
      "outputs": [
        {
          "output_type": "stream",
          "name": "stdout",
          "text": [
            "\u001b[?25l     \u001b[90m━━━━━━━━━━━━━━━━━━━━━━━━━━━━━━━━━━━━━━━━\u001b[0m \u001b[32m0.0/100.0 kB\u001b[0m \u001b[31m?\u001b[0m eta \u001b[36m-:--:--\u001b[0m\r\u001b[2K     \u001b[91m━━━━━━━━━━━━━━━━━━━━━━━━━━━━━━━━━━━━\u001b[0m\u001b[91m╸\u001b[0m\u001b[90m━━━\u001b[0m \u001b[32m92.2/100.0 kB\u001b[0m \u001b[31m3.1 MB/s\u001b[0m eta \u001b[36m0:00:01\u001b[0m\r\u001b[2K     \u001b[90m━━━━━━━━━━━━━━━━━━━━━━━━━━━━━━━━━━━━━━━\u001b[0m \u001b[32m100.0/100.0 kB\u001b[0m \u001b[31m2.5 MB/s\u001b[0m eta \u001b[36m0:00:00\u001b[0m\n",
            "\u001b[?25h"
          ]
        }
      ]
    },
    {
      "cell_type": "code",
      "source": [
        "import xlwt\n",
        "from xlwt import Workbook"
      ],
      "metadata": {
        "id": "pZWdLdo_G1xC"
      },
      "execution_count": 24,
      "outputs": []
    },
    {
      "cell_type": "code",
      "source": [
        "wb = Workbook()\n",
        "sheet1 = wb.add_sheet('Sheet 1')\n",
        "sheet1.write(0, 0, 'Image Name')\n",
        "sheet1.write(0,1,'Predicted Class Label')\n",
        "path = \"/content/gdrive/MyDrive/Btechproject/test/Test1\"\n",
        "bleed = 0\n",
        "nonbleed = 0\n",
        "cnt = 1\n",
        "for i in sorted(os.listdir(path)):\n",
        "  path_to_image = os.path.join(path, i)\n",
        "  img = Image.open(path_to_image)\n",
        "  img = transform(img)\n",
        "  # plt.imshow(img.permute(1,2,0))\n",
        "  img=img.to(device)\n",
        "  img = torch.unsqueeze(img, dim=0)\n",
        "  pr_mask=best_model.predict(img).squeeze(dim=0)\n",
        "  # print(torch.unique(pr_mask,sorted=True))\n",
        "  # print(pr_mask.shape)\n",
        "  pr_mask = transforms.functional.to_pil_image(torch.round(pr_mask.cpu()))\n",
        "\n",
        "  if len(np.unique(pr_mask)) == 1:\n",
        "     nonbleed += 1\n",
        "     sheet1.write(cnt, 0, i)\n",
        "     sheet1.write(cnt, 1, 'Non-Bleeding')\n",
        "  else:\n",
        "    # print(np.unique(pr_mask))\n",
        "    bleed += 1\n",
        "    sheet1.write(cnt, 0, i)\n",
        "    sheet1.write(cnt, 1, 'Bleeding')\n",
        "\n",
        "  cnt += 1\n",
        "\n",
        "wb.save('./ans.xls')\n",
        "print(bleed,nonbleed)\n",
        "  # if not os.path.isdir(f\"/content/gdrive/MyDrive/finalval/{Encoder}\"):\n",
        "  #   os.mkdir(f\"/content/gdrive/MyDrive/finalval/{Encoder}\")\n",
        "  # pr_mask.save(os.path.join(f\"/content/gdrive/MyDrive/finalval/{Encoder}\",i))"
      ],
      "metadata": {
        "colab": {
          "base_uri": "https://localhost:8080/"
        },
        "id": "CGw7ReQVG1ko",
        "outputId": "5eb68d0c-a1dd-4533-964e-9889c45adc4a"
      },
      "execution_count": 28,
      "outputs": [
        {
          "output_type": "stream",
          "name": "stdout",
          "text": [
            "29 20\n"
          ]
        }
      ]
    },
    {
      "cell_type": "code",
      "execution_count": null,
      "metadata": {
        "id": "XG6f3K_7s1Pp"
      },
      "outputs": [],
      "source": [
        "path = '/content/gdrive/My Drive/Btechproject'\n",
        "imagePath = os.path.join(path,'test/Test1')\n",
        "maskPath = os.path.join(path,'test/mask1')\n",
        "\n",
        "dataset_test = customDataset(imagePath,maskPath,transform)\n",
        "\n",
        "test_dl = DataLoader(dataset_test)\n",
        "\n",
        "test_epoch = smp.utils.train.ValidEpoch(\n",
        "    model=best_model,\n",
        "    loss=loss,\n",
        "    metrics=metrics,\n",
        "    device=device,\n",
        ")\n",
        "logs = test_epoch.run(test_dl)"
      ]
    },
    {
      "cell_type": "code",
      "execution_count": null,
      "metadata": {
        "id": "ZANanQj3VcMf"
      },
      "outputs": [],
      "source": [
        "path = \"/content/gdrive/MyDrive/Btechproject/test/Test1\"\n",
        "for i in os.listdir(path):\n",
        "  path_to_image = os.path.join(path, i)\n",
        "  img = Image.open(path_to_image)\n",
        "  img = transform(img)\n",
        "  # plt.imshow(img.permute(1,2,0))\n",
        "  img=img.to(device)\n",
        "  img = torch.unsqueeze(img, dim=0)\n",
        "  pr_mask=best_model.predict(img).squeeze(dim=0)\n",
        "  # print(torch.unique(pr_mask,sorted=True))\n",
        "  # print(pr_mask.shape)\n",
        "  pr_mask = transforms.functional.to_pil_image(torch.round(pr_mask.cpu()))\n",
        "  if not os.path.isdir(f\"/content/gdrive/MyDrive/finalval/{Encoder}\"):\n",
        "    os.mkdir(f\"/content/gdrive/MyDrive/finalval/{Encoder}\")\n",
        "  pr_mask.save(os.path.join(f\"/content/gdrive/MyDrive/finalval/{Encoder}\",i))\n"
      ]
    },
    {
      "cell_type": "code",
      "execution_count": null,
      "metadata": {
        "id": "5oUUAcozxT0w"
      },
      "outputs": [],
      "source": [
        "!pip install shap --quiet"
      ]
    },
    {
      "cell_type": "code",
      "source": [
        "def predict(img):\n",
        "  print(type(img), img.shape)\n",
        "  img = torch.tensor(img[0,:,:,:])\n",
        "  img = img.cuda()\n",
        "  img = torch.unsqueeze(img, 0)\n",
        "  pr_mask = best_model(img)\n",
        "  pr_mask = pr_mask.squeeze()\n",
        "  return pr_mask"
      ],
      "metadata": {
        "id": "HUHsiO0hlGXI"
      },
      "execution_count": null,
      "outputs": []
    },
    {
      "cell_type": "code",
      "execution_count": null,
      "metadata": {
        "colab": {
          "base_uri": "https://localhost:8080/",
          "height": 530
        },
        "id": "LuFw7RrKxTwA",
        "outputId": "c7641a9b-4e5d-4f2b-b53f-563aaa72e403"
      },
      "outputs": [
        {
          "output_type": "stream",
          "name": "stdout",
          "text": [
            "torch.float32 torch.Size([1, 224, 224]) torch.float32\n"
          ]
        },
        {
          "output_type": "error",
          "ename": "RuntimeError",
          "evalue": "ignored",
          "traceback": [
            "\u001b[0;31m---------------------------------------------------------------------------\u001b[0m",
            "\u001b[0;31mRuntimeError\u001b[0m                              Traceback (most recent call last)",
            "\u001b[0;32m<ipython-input-37-9b99e0704b26>\u001b[0m in \u001b[0;36m<cell line: 13>\u001b[0;34m()\u001b[0m\n\u001b[1;32m     11\u001b[0m \u001b[0mimage\u001b[0m\u001b[0;34m,\u001b[0m \u001b[0mmsk\u001b[0m \u001b[0;34m=\u001b[0m \u001b[0mval_ds\u001b[0m\u001b[0;34m[\u001b[0m\u001b[0;36m4\u001b[0m\u001b[0;34m]\u001b[0m\u001b[0;34m\u001b[0m\u001b[0;34m\u001b[0m\u001b[0m\n\u001b[1;32m     12\u001b[0m \u001b[0mprint\u001b[0m\u001b[0;34m(\u001b[0m\u001b[0mimg\u001b[0m\u001b[0;34m.\u001b[0m\u001b[0mdtype\u001b[0m\u001b[0;34m,\u001b[0m \u001b[0mmsk\u001b[0m\u001b[0;34m.\u001b[0m\u001b[0mshape\u001b[0m\u001b[0;34m,\u001b[0m \u001b[0mmsk\u001b[0m\u001b[0;34m.\u001b[0m\u001b[0mdtype\u001b[0m\u001b[0;34m)\u001b[0m\u001b[0;34m\u001b[0m\u001b[0;34m\u001b[0m\u001b[0m\n\u001b[0;32m---> 13\u001b[0;31m \u001b[0moutput\u001b[0m \u001b[0;34m=\u001b[0m \u001b[0mmasker_blur\u001b[0m\u001b[0;34m(\u001b[0m\u001b[0mmask\u001b[0m\u001b[0;34m=\u001b[0m\u001b[0mval_ds\u001b[0m\u001b[0;34m[\u001b[0m\u001b[0;36m4\u001b[0m\u001b[0;34m]\u001b[0m\u001b[0;34m[\u001b[0m\u001b[0;36m1\u001b[0m\u001b[0;34m]\u001b[0m\u001b[0;34m.\u001b[0m\u001b[0mto\u001b[0m\u001b[0;34m(\u001b[0m\u001b[0mtorch\u001b[0m\u001b[0;34m.\u001b[0m\u001b[0muint8\u001b[0m\u001b[0;34m)\u001b[0m\u001b[0;34m,\u001b[0m \u001b[0mx\u001b[0m\u001b[0;34m=\u001b[0m\u001b[0mval_ds\u001b[0m\u001b[0;34m[\u001b[0m\u001b[0;36m4\u001b[0m\u001b[0;34m]\u001b[0m\u001b[0;34m[\u001b[0m\u001b[0;36m0\u001b[0m\u001b[0;34m]\u001b[0m\u001b[0;34m)\u001b[0m\u001b[0;34m\u001b[0m\u001b[0;34m\u001b[0m\u001b[0m\n\u001b[0m\u001b[1;32m     14\u001b[0m \u001b[0mprint\u001b[0m\u001b[0;34m(\u001b[0m\u001b[0moutput\u001b[0m\u001b[0;34m[\u001b[0m\u001b[0;36m0\u001b[0m\u001b[0;34m]\u001b[0m\u001b[0;34m.\u001b[0m\u001b[0mshape\u001b[0m\u001b[0;34m)\u001b[0m\u001b[0;34m\u001b[0m\u001b[0;34m\u001b[0m\u001b[0m\n\u001b[1;32m     15\u001b[0m \u001b[0mplt\u001b[0m\u001b[0;34m.\u001b[0m\u001b[0mimshow\u001b[0m\u001b[0;34m(\u001b[0m\u001b[0moutput\u001b[0m\u001b[0;34m[\u001b[0m\u001b[0;36m0\u001b[0m\u001b[0;34m]\u001b[0m\u001b[0;34m.\u001b[0m\u001b[0mreshape\u001b[0m\u001b[0;34m(\u001b[0m\u001b[0;36m224\u001b[0m\u001b[0;34m,\u001b[0m \u001b[0;36m224\u001b[0m\u001b[0;34m,\u001b[0m \u001b[0;36m3\u001b[0m\u001b[0;34m)\u001b[0m\u001b[0;34m)\u001b[0m\u001b[0;34m\u001b[0m\u001b[0;34m\u001b[0m\u001b[0m\n",
            "\u001b[0;32m/usr/local/lib/python3.10/dist-packages/shap/maskers/_image.py\u001b[0m in \u001b[0;36m__call__\u001b[0;34m(self, mask, x)\u001b[0m\n\u001b[1;32m    107\u001b[0m \u001b[0;34m\u001b[0m\u001b[0m\n\u001b[1;32m    108\u001b[0m             \u001b[0;32melif\u001b[0m \u001b[0mself\u001b[0m\u001b[0;34m.\u001b[0m\u001b[0mmask_value\u001b[0m \u001b[0;34m==\u001b[0m \u001b[0;34m\"inpaint_telea\"\u001b[0m\u001b[0;34m:\u001b[0m\u001b[0;34m\u001b[0m\u001b[0;34m\u001b[0m\u001b[0m\n\u001b[0;32m--> 109\u001b[0;31m                 \u001b[0mout\u001b[0m \u001b[0;34m=\u001b[0m \u001b[0mself\u001b[0m\u001b[0;34m.\u001b[0m\u001b[0minpaint\u001b[0m\u001b[0;34m(\u001b[0m\u001b[0mx\u001b[0m\u001b[0;34m,\u001b[0m \u001b[0;34m~\u001b[0m\u001b[0mmask\u001b[0m\u001b[0;34m,\u001b[0m \u001b[0;34m\"INPAINT_TELEA\"\u001b[0m\u001b[0;34m)\u001b[0m\u001b[0;34m\u001b[0m\u001b[0;34m\u001b[0m\u001b[0m\n\u001b[0m\u001b[1;32m    110\u001b[0m             \u001b[0;32melif\u001b[0m \u001b[0mself\u001b[0m\u001b[0;34m.\u001b[0m\u001b[0mmask_value\u001b[0m \u001b[0;34m==\u001b[0m \u001b[0;34m\"inpaint_ns\"\u001b[0m\u001b[0;34m:\u001b[0m\u001b[0;34m\u001b[0m\u001b[0;34m\u001b[0m\u001b[0m\n\u001b[1;32m    111\u001b[0m                 \u001b[0mout\u001b[0m \u001b[0;34m=\u001b[0m \u001b[0mself\u001b[0m\u001b[0;34m.\u001b[0m\u001b[0minpaint\u001b[0m\u001b[0;34m(\u001b[0m\u001b[0mx\u001b[0m\u001b[0;34m,\u001b[0m \u001b[0;34m~\u001b[0m\u001b[0mmask\u001b[0m\u001b[0;34m,\u001b[0m \u001b[0;34m\"INPAINT_NS\"\u001b[0m\u001b[0;34m)\u001b[0m\u001b[0;34m\u001b[0m\u001b[0;34m\u001b[0m\u001b[0m\n",
            "\u001b[0;32m/usr/local/lib/python3.10/dist-packages/shap/maskers/_image.py\u001b[0m in \u001b[0;36minpaint\u001b[0;34m(self, x, mask, method)\u001b[0m\n\u001b[1;32m    119\u001b[0m         \"\"\" Fill in the masked parts of the image through inpainting.\n\u001b[1;32m    120\u001b[0m         \"\"\"\n\u001b[0;32m--> 121\u001b[0;31m         \u001b[0mreshaped_mask\u001b[0m \u001b[0;34m=\u001b[0m \u001b[0mmask\u001b[0m\u001b[0;34m.\u001b[0m\u001b[0mreshape\u001b[0m\u001b[0;34m(\u001b[0m\u001b[0mself\u001b[0m\u001b[0;34m.\u001b[0m\u001b[0minput_shape\u001b[0m\u001b[0;34m)\u001b[0m\u001b[0;34m.\u001b[0m\u001b[0mastype\u001b[0m\u001b[0;34m(\u001b[0m\u001b[0mnp\u001b[0m\u001b[0;34m.\u001b[0m\u001b[0muint8\u001b[0m\u001b[0;34m)\u001b[0m\u001b[0;34m.\u001b[0m\u001b[0mmax\u001b[0m\u001b[0;34m(\u001b[0m\u001b[0;36m2\u001b[0m\u001b[0;34m)\u001b[0m\u001b[0;34m\u001b[0m\u001b[0;34m\u001b[0m\u001b[0m\n\u001b[0m\u001b[1;32m    122\u001b[0m         \u001b[0;32mif\u001b[0m \u001b[0mreshaped_mask\u001b[0m\u001b[0;34m.\u001b[0m\u001b[0msum\u001b[0m\u001b[0;34m(\u001b[0m\u001b[0;34m)\u001b[0m \u001b[0;34m==\u001b[0m \u001b[0mnp\u001b[0m\u001b[0;34m.\u001b[0m\u001b[0mprod\u001b[0m\u001b[0;34m(\u001b[0m\u001b[0mself\u001b[0m\u001b[0;34m.\u001b[0m\u001b[0minput_shape\u001b[0m\u001b[0;34m[\u001b[0m\u001b[0;34m:\u001b[0m\u001b[0;34m-\u001b[0m\u001b[0;36m1\u001b[0m\u001b[0;34m]\u001b[0m\u001b[0;34m)\u001b[0m\u001b[0;34m:\u001b[0m\u001b[0;34m\u001b[0m\u001b[0;34m\u001b[0m\u001b[0m\n\u001b[1;32m    123\u001b[0m             \u001b[0mout\u001b[0m \u001b[0;34m=\u001b[0m \u001b[0mx\u001b[0m\u001b[0;34m.\u001b[0m\u001b[0mreshape\u001b[0m\u001b[0;34m(\u001b[0m\u001b[0mself\u001b[0m\u001b[0;34m.\u001b[0m\u001b[0minput_shape\u001b[0m\u001b[0;34m)\u001b[0m\u001b[0;34m.\u001b[0m\u001b[0mcopy\u001b[0m\u001b[0;34m(\u001b[0m\u001b[0;34m)\u001b[0m\u001b[0;34m\u001b[0m\u001b[0;34m\u001b[0m\u001b[0m\n",
            "\u001b[0;31mRuntimeError\u001b[0m: shape '[3, 224, 224]' is invalid for input of size 50176"
          ]
        }
      ],
      "source": [
        "import shap\n",
        "import matplotlib.pyplot as plt\n",
        "\n",
        "path = \"/content/gdrive/MyDrive/Btechproject/test/Test1\"\n",
        "i=\"0.png\"\n",
        "path_to_image = os.path.join(path, i)\n",
        "img = Image.open(path_to_image)\n",
        "img = transform(img)\n",
        "\n",
        "masker_blur = shap.maskers.Image(\"inpaint_telea\", (3, 224, 224))\n",
        "image, msk = val_ds[4]\n",
        "print(img.dtype, msk.shape, msk.dtype)\n",
        "output = masker_blur(mask=val_ds[4][1].to(torch.uint8), x=val_ds[4][0])\n",
        "print(output[0].shape)\n",
        "plt.imshow(output[0].reshape(224, 224, 3))\n",
        "\n",
        "# explainer = shap.Explainer(predict, masker=masker_blur)\n",
        "# shap_values = explainer(val_ds[4], max_evals=100, outputs=shap.Explanation.argsort.flip[:4])"
      ]
    },
    {
      "cell_type": "code",
      "execution_count": null,
      "metadata": {
        "id": "monxTRIPS02I"
      },
      "outputs": [],
      "source": [
        "import matplotlib.pyplot as plt\n",
        "plt.imshow(mark_boundaries(img.cpu().numpy().transpose((1, 2, 0)), mask))\n",
        "plt.axis('off')\n",
        "plt.show()"
      ]
    }
  ],
  "metadata": {
    "accelerator": "GPU",
    "colab": {
      "provenance": [],
      "gpuType": "T4"
    },
    "kernelspec": {
      "display_name": "Python 3",
      "name": "python3"
    },
    "language_info": {
      "name": "python"
    }
  },
  "nbformat": 4,
  "nbformat_minor": 0
}
